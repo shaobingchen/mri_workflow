{
 "cells": [
  {
   "cell_type": "code",
   "execution_count": 1,
   "metadata": {},
   "outputs": [
    {
     "data": {
      "text/plain": [
       "<base.RunMetaData at 0x21b0000ef50>"
      ]
     },
     "execution_count": 1,
     "metadata": {},
     "output_type": "execute_result"
    }
   ],
   "source": [
    "from base import *\n",
    "\n",
    "test_metadata = RunMetaData(rootdir= r\"\\root\\dir\", subject=\"sub-s001\", datatype=\"func\", session=\"ses-1\")\n",
    "test_metadata"
   ]
  },
  {
   "cell_type": "code",
   "execution_count": 2,
   "metadata": {},
   "outputs": [
    {
     "data": {
      "text/plain": [
       "'\\\\root\\\\dir\\\\derivatives\\\\haha\\\\sub-s001\\\\ses-1\\\\func'"
      ]
     },
     "execution_count": 2,
     "metadata": {},
     "output_type": "execute_result"
    }
   ],
   "source": [
    "test_metadata.set_derivatives_place([\"derivatives\",\"haha\"])\n",
    "test_metadata.derivatives_path"
   ]
  },
  {
   "cell_type": "code",
   "execution_count": 8,
   "metadata": {},
   "outputs": [],
   "source": [
    "test_node1 = Node(\"node1\", describe= \"testnode1\", suffix=\"suffix1\")\n",
    "test_node2 = Node(\"node2\", describe= \"testnode2\", suffix=\"suffix2\")\n",
    "test_node3 = Node(\"node3\", describe= \"testnode3\", suffix=\"suffix3\")\n",
    "test_node4 = Node(\"node4\", describe= \"testnode4\", suffix=\"suffix4\")\n",
    "test_node5 = Node(\"node5\", describe= \"testnode5\", suffix=\"suffix5\")"
   ]
  },
  {
   "cell_type": "code",
   "execution_count": 15,
   "metadata": {},
   "outputs": [],
   "source": [
    "test_work1 = Work(\"work1\", [test_node1, test_node2], [test_node3, test_node4], test_metadata)\n",
    "test_work2 = Work(\"work2\", [test_node3, test_node4], [test_node5], test_metadata)"
   ]
  },
  {
   "cell_type": "code",
   "execution_count": 16,
   "metadata": {},
   "outputs": [
    {
     "name": "stdout",
     "output_type": "stream",
     "text": [
      "<base.Work object at 0x0000021B02CEEED0>\n"
     ]
    },
    {
     "ename": "TypeError",
     "evalue": "unhashable type: 'list'",
     "output_type": "error",
     "traceback": [
      "\u001b[1;31m---------------------------------------------------------------------------\u001b[0m",
      "\u001b[1;31mTypeError\u001b[0m                                 Traceback (most recent call last)",
      "Cell \u001b[1;32mIn[16], line 3\u001b[0m\n\u001b[0;32m      1\u001b[0m test_workflow \u001b[38;5;241m=\u001b[39m Workflow()\n\u001b[0;32m      2\u001b[0m \u001b[38;5;28mprint\u001b[39m(test_work1)\n\u001b[1;32m----> 3\u001b[0m test_workflow\u001b[38;5;241m.\u001b[39madd_work(test_work1)\n\u001b[0;32m      4\u001b[0m test_workflow\u001b[38;5;241m.\u001b[39madd_work(test_work2)\n",
      "File \u001b[1;32mc:\\Users\\sbc\\app\\project\\mefmriprep\\base.py:109\u001b[0m, in \u001b[0;36mWorkflow.add_work\u001b[1;34m(self, work)\u001b[0m\n\u001b[0;32m    107\u001b[0m \u001b[38;5;28;01mdef\u001b[39;00m \u001b[38;5;21madd_work\u001b[39m(\u001b[38;5;28mself\u001b[39m, work: Work):\n\u001b[1;32m--> 109\u001b[0m     \u001b[38;5;28mself\u001b[39m\u001b[38;5;241m.\u001b[39madd_node(work\u001b[38;5;241m.\u001b[39mget_add_node)\n\u001b[0;32m    110\u001b[0m     \u001b[38;5;28mself\u001b[39m\u001b[38;5;241m.\u001b[39madd_edge(product(work\u001b[38;5;241m.\u001b[39minput_nodes, work\u001b[38;5;241m.\u001b[39moutput_nodes))\n\u001b[0;32m    111\u001b[0m     \u001b[38;5;28mself\u001b[39m\u001b[38;5;241m.\u001b[39mworks\u001b[38;5;241m.\u001b[39mappend(work)\n",
      "File \u001b[1;32mc:\\Users\\sbc\\anaconda3\\Lib\\site-packages\\networkx\\classes\\digraph.py:459\u001b[0m, in \u001b[0;36mDiGraph.add_node\u001b[1;34m(self, node_for_adding, **attr)\u001b[0m\n\u001b[0;32m    420\u001b[0m \u001b[38;5;28;01mdef\u001b[39;00m \u001b[38;5;21madd_node\u001b[39m(\u001b[38;5;28mself\u001b[39m, node_for_adding, \u001b[38;5;241m*\u001b[39m\u001b[38;5;241m*\u001b[39mattr):\n\u001b[0;32m    421\u001b[0m \u001b[38;5;250m    \u001b[39m\u001b[38;5;124;03m\"\"\"Add a single node `node_for_adding` and update node attributes.\u001b[39;00m\n\u001b[0;32m    422\u001b[0m \n\u001b[0;32m    423\u001b[0m \u001b[38;5;124;03m    Parameters\u001b[39;00m\n\u001b[1;32m   (...)\u001b[0m\n\u001b[0;32m    457\u001b[0m \u001b[38;5;124;03m    doesn't change on mutables.\u001b[39;00m\n\u001b[0;32m    458\u001b[0m \u001b[38;5;124;03m    \"\"\"\u001b[39;00m\n\u001b[1;32m--> 459\u001b[0m     \u001b[38;5;28;01mif\u001b[39;00m node_for_adding \u001b[38;5;129;01mnot\u001b[39;00m \u001b[38;5;129;01min\u001b[39;00m \u001b[38;5;28mself\u001b[39m\u001b[38;5;241m.\u001b[39m_succ:\n\u001b[0;32m    460\u001b[0m         \u001b[38;5;28;01mif\u001b[39;00m node_for_adding \u001b[38;5;129;01mis\u001b[39;00m \u001b[38;5;28;01mNone\u001b[39;00m:\n\u001b[0;32m    461\u001b[0m             \u001b[38;5;28;01mraise\u001b[39;00m \u001b[38;5;167;01mValueError\u001b[39;00m(\u001b[38;5;124m\"\u001b[39m\u001b[38;5;124mNone cannot be a node\u001b[39m\u001b[38;5;124m\"\u001b[39m)\n",
      "\u001b[1;31mTypeError\u001b[0m: unhashable type: 'list'"
     ]
    }
   ],
   "source": [
    "test_workflow = Workflow()\n",
    "print(test_work1)\n",
    "test_workflow.add_work(test_work1)\n",
    "test_workflow.add_work(test_work2)\n"
   ]
  }
 ],
 "metadata": {
  "kernelspec": {
   "display_name": "fmriprep_test",
   "language": "python",
   "name": "python3"
  },
  "language_info": {
   "codemirror_mode": {
    "name": "ipython",
    "version": 3
   },
   "file_extension": ".py",
   "mimetype": "text/x-python",
   "name": "python",
   "nbconvert_exporter": "python",
   "pygments_lexer": "ipython3",
   "version": "3.11.5"
  }
 },
 "nbformat": 4,
 "nbformat_minor": 2
}
