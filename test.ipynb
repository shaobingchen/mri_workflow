{
 "cells": [
  {
   "cell_type": "code",
   "execution_count": null,
   "metadata": {},
   "outputs": [],
   "source": []
  },
  {
   "cell_type": "code",
   "execution_count": 3,
   "metadata": {},
   "outputs": [
    {
     "name": "stdout",
     "output_type": "stream",
     "text": [
      "['ls', '-l', '/home']\n"
     ]
    }
   ],
   "source": [
    "import shlex\n",
    "command1 = \"ls -l /home\"\n",
    "result1 = shlex.split(command1)\n",
    "print(result1)"
   ]
  },
  {
   "cell_type": "code",
   "execution_count": 6,
   "metadata": {},
   "outputs": [
    {
     "name": "stdout",
     "output_type": "stream",
     "text": [
      "['3dDespike', '-overwrite', '-prefix', './echo_1_vrA.nii.gz', './echo_1.nii']\n"
     ]
    }
   ],
   "source": [
    "print(shlex.split('3dDespike -overwrite -prefix ./echo_1_vrA.nii.gz ./echo_1.nii'))"
   ]
  },
  {
   "cell_type": "code",
   "execution_count": 4,
   "metadata": {},
   "outputs": [
    {
     "name": "stdout",
     "output_type": "stream",
     "text": [
      "['3dTshift', '-heptic', '-tpattern', '@slicetime.1D', '-prefix', './e1_ts+orig', './echo_1_pt.nii.gz']\n"
     ]
    }
   ],
   "source": [
    "print(shlex.split('3dTshift -heptic  -tpattern @slicetime.1D  -prefix ./e1_ts+orig ./echo_1_pt.nii.gz'))"
   ]
  },
  {
   "cell_type": "markdown",
   "metadata": {},
   "source": [
    "3dTshift -heptic -tpattern @sub-001_echo-1_desc-slicetime_bold.1D -prefix /home/sbc/data/test_dataset/mepreprocess/sub-001/func/sub-001_echo-1_space-origin_desc-slicetime_corrected_bold.nii.gz /home/sbc/data/test_dataset/mepreprocess/sub-001/func/sub-001_echo-1_space-origin_desc-despiked_bold.nii.gz"
   ]
  },
  {
   "cell_type": "code",
   "execution_count": 3,
   "metadata": {},
   "outputs": [
    {
     "data": {
      "text/plain": [
       "False"
      ]
     },
     "execution_count": 3,
     "metadata": {},
     "output_type": "execute_result"
    }
   ],
   "source": [
    "import os.path as op\n",
    "op.exists('/home/sbc/data/test_dataset/sub-001/func/sub-001_echo-2_desc-slicetime_bold.1D')"
   ]
  }
 ],
 "metadata": {
  "kernelspec": {
   "display_name": "mri",
   "language": "python",
   "name": "python3"
  },
  "language_info": {
   "codemirror_mode": {
    "name": "ipython",
    "version": 3
   },
   "file_extension": ".py",
   "mimetype": "text/x-python",
   "name": "python",
   "nbconvert_exporter": "python",
   "pygments_lexer": "ipython3",
   "version": "3.12.5"
  }
 },
 "nbformat": 4,
 "nbformat_minor": 2
}
